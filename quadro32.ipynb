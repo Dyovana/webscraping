{
 "cells": [
  {
   "cell_type": "code",
   "execution_count": 1,
   "id": "bf505c6d",
   "metadata": {},
   "outputs": [],
   "source": [
    "import tabula\n",
    "\n",
    "import pandas as pd\n",
    "\n",
    "import csv"
   ]
  },
  {
   "cell_type": "code",
   "execution_count": 2,
   "id": "fd74ba2d",
   "metadata": {},
   "outputs": [
    {
     "name": "stderr",
     "output_type": "stream",
     "text": [
      "Got stderr: dez 11, 2021 10:42:33 AM org.apache.pdfbox.pdmodel.font.PDTrueTypeFont <init>\r\n",
      "WARNING: Using fallback font 'Arial-BoldMT' for 'Helvetica,Bold'\r\n",
      "dez 11, 2021 10:42:37 AM org.apache.pdfbox.pdmodel.font.PDTrueTypeFont <init>\r\n",
      "WARNING: Using fallback font 'Arial-BoldMT' for 'Helvetica,Bold'\r\n",
      "\n"
     ]
    },
    {
     "name": "stdout",
     "output_type": "stream",
     "text": [
      "2\n"
     ]
    }
   ],
   "source": [
    "lista_tabelas = tabula.read_pdf(\"padrao-tiss_componente-organizacional_202111.pdf\", pages=\"120\")\n",
    "\n",
    "# Vê a quantidade de tabelas retornadas\n",
    "print(len(lista_tabelas))"
   ]
  },
  {
   "cell_type": "code",
   "execution_count": 3,
   "id": "54596417",
   "metadata": {},
   "outputs": [],
   "source": [
    "tabela = lista_tabelas[1]"
   ]
  },
  {
   "cell_type": "code",
   "execution_count": 4,
   "id": "db3e7602",
   "metadata": {},
   "outputs": [],
   "source": [
    "# Definindo a lista 0 como coluna\n",
    "tabela.columns = tabela.iloc[0]"
   ]
  },
  {
   "cell_type": "code",
   "execution_count": 5,
   "id": "573b2b04",
   "metadata": {},
   "outputs": [],
   "source": [
    "# Excluindo primeira e segunda linha\n",
    "tabela = tabela.drop(0)\n",
    "tabela = tabela.drop(1)\n",
    "tabela = tabela.drop(4)"
   ]
  },
  {
   "cell_type": "code",
   "execution_count": 6,
   "id": "04d5121a",
   "metadata": {},
   "outputs": [],
   "source": [
    "tabela[[\"Código\", \"Descrição da categoria\"]] = tabela[\"Código\"].str.split(' ', expand=True)"
   ]
  },
  {
   "cell_type": "code",
   "execution_count": 7,
   "id": "05314ff0",
   "metadata": {},
   "outputs": [],
   "source": [
    "#Indicando a coluna Código como index\n",
    "tabela = tabela.set_index(\"Código\")"
   ]
  },
  {
   "cell_type": "code",
   "execution_count": 8,
   "id": "5a0782ec",
   "metadata": {},
   "outputs": [
    {
     "data": {
      "text/html": [
       "<div>\n",
       "<style scoped>\n",
       "    .dataframe tbody tr th:only-of-type {\n",
       "        vertical-align: middle;\n",
       "    }\n",
       "\n",
       "    .dataframe tbody tr th {\n",
       "        vertical-align: top;\n",
       "    }\n",
       "\n",
       "    .dataframe thead th {\n",
       "        text-align: right;\n",
       "    }\n",
       "</style>\n",
       "<table border=\"1\" class=\"dataframe\">\n",
       "  <thead>\n",
       "    <tr style=\"text-align: right;\">\n",
       "      <th></th>\n",
       "      <th>Descrição da categoria</th>\n",
       "    </tr>\n",
       "    <tr>\n",
       "      <th>Código</th>\n",
       "      <th></th>\n",
       "    </tr>\n",
       "  </thead>\n",
       "  <tbody>\n",
       "    <tr>\n",
       "      <th>1</th>\n",
       "      <td>Alteração</td>\n",
       "    </tr>\n",
       "    <tr>\n",
       "      <th>2</th>\n",
       "      <td>Inclusão</td>\n",
       "    </tr>\n",
       "    <tr>\n",
       "      <th>3</th>\n",
       "      <td>Exclusão</td>\n",
       "    </tr>\n",
       "  </tbody>\n",
       "</table>\n",
       "</div>"
      ],
      "text/plain": [
       "0      Descrição da categoria\n",
       "Código                       \n",
       "1                   Alteração\n",
       "2                    Inclusão\n",
       "3                    Exclusão"
      ]
     },
     "execution_count": 8,
     "metadata": {},
     "output_type": "execute_result"
    }
   ],
   "source": [
    "tabela"
   ]
  },
  {
   "cell_type": "code",
   "execution_count": 9,
   "id": "689dc175",
   "metadata": {},
   "outputs": [],
   "source": [
    "# Exportando dataframe para csv\n",
    "tabela.to_csv('quadro32.csv', sep='\\t', encoding='utf-8')"
   ]
  },
  {
   "cell_type": "code",
   "execution_count": null,
   "id": "11d2c702",
   "metadata": {},
   "outputs": [],
   "source": []
  }
 ],
 "metadata": {
  "kernelspec": {
   "display_name": "Python 3 (ipykernel)",
   "language": "python",
   "name": "python3"
  },
  "language_info": {
   "codemirror_mode": {
    "name": "ipython",
    "version": 3
   },
   "file_extension": ".py",
   "mimetype": "text/x-python",
   "name": "python",
   "nbconvert_exporter": "python",
   "pygments_lexer": "ipython3",
   "version": "3.9.7"
  }
 },
 "nbformat": 4,
 "nbformat_minor": 5
}

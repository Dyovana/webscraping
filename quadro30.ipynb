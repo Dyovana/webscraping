{
 "cells": [
  {
   "cell_type": "code",
   "execution_count": 1,
   "id": "f4e7a7f0",
   "metadata": {},
   "outputs": [],
   "source": [
    "import tabula\n",
    "\n",
    "import pandas as pd\n",
    "\n",
    "import csv"
   ]
  },
  {
   "cell_type": "code",
   "execution_count": 2,
   "id": "ba93d463",
   "metadata": {},
   "outputs": [
    {
     "name": "stderr",
     "output_type": "stream",
     "text": [
      "Got stderr: dez 11, 2021 10:38:40 AM org.apache.pdfbox.pdmodel.font.PDTrueTypeFont <init>\r\n",
      "WARNING: Using fallback font 'Arial-BoldMT' for 'Helvetica,Bold'\r\n",
      "dez 11, 2021 10:38:46 AM org.apache.pdfbox.pdmodel.font.PDTrueTypeFont <init>\r\n",
      "WARNING: Using fallback font 'Arial-BoldMT' for 'Helvetica,Bold'\r\n",
      "\n"
     ]
    },
    {
     "name": "stdout",
     "output_type": "stream",
     "text": [
      "1\n"
     ]
    }
   ],
   "source": [
    "lista_tabelas = tabula.read_pdf(\"padrao-tiss_componente-organizacional_202111.pdf\", pages=\"114\")\n",
    "\n",
    "# Vê a quantidade de tabelas retornadas\n",
    "print(len(lista_tabelas))"
   ]
  },
  {
   "cell_type": "code",
   "execution_count": 3,
   "id": "bbec5c72",
   "metadata": {},
   "outputs": [],
   "source": [
    "tabela = lista_tabelas[0]\n"
   ]
  },
  {
   "cell_type": "code",
   "execution_count": 4,
   "id": "d954f62c",
   "metadata": {},
   "outputs": [
    {
     "data": {
      "text/plain": [
       "Index(['Código Descrição da categoria'], dtype='object', name=0)"
      ]
     },
     "execution_count": 4,
     "metadata": {},
     "output_type": "execute_result"
    }
   ],
   "source": [
    "tabela.columns = tabela.iloc[0]\n",
    "\n",
    "#Mostra as colunas da tabela\n",
    "tabela.columns"
   ]
  },
  {
   "cell_type": "code",
   "execution_count": 5,
   "id": "02a851df",
   "metadata": {},
   "outputs": [],
   "source": [
    "tabela[['Código', 'Descrição da categoria', 'del', 'del']] = tabela['Código Descrição da categoria'].str.split(\" \", expand=True)"
   ]
  },
  {
   "cell_type": "code",
   "execution_count": 6,
   "id": "5a124f70",
   "metadata": {},
   "outputs": [],
   "source": [
    "del tabela['Código Descrição da categoria']\n",
    "del tabela['del']"
   ]
  },
  {
   "cell_type": "code",
   "execution_count": 7,
   "id": "c65c5981",
   "metadata": {},
   "outputs": [],
   "source": [
    "# Excluindo primeira linha\n",
    "tabela = tabela.drop(0)"
   ]
  },
  {
   "cell_type": "code",
   "execution_count": 8,
   "id": "589d965b",
   "metadata": {},
   "outputs": [],
   "source": [
    "#Indicando a coluna Código como index\n",
    "tabela = tabela.set_index(\"Código\")"
   ]
  },
  {
   "cell_type": "code",
   "execution_count": 9,
   "id": "1f527f47",
   "metadata": {},
   "outputs": [
    {
     "data": {
      "text/html": [
       "<div>\n",
       "<style scoped>\n",
       "    .dataframe tbody tr th:only-of-type {\n",
       "        vertical-align: middle;\n",
       "    }\n",
       "\n",
       "    .dataframe tbody tr th {\n",
       "        vertical-align: top;\n",
       "    }\n",
       "\n",
       "    .dataframe thead th {\n",
       "        text-align: right;\n",
       "    }\n",
       "</style>\n",
       "<table border=\"1\" class=\"dataframe\">\n",
       "  <thead>\n",
       "    <tr style=\"text-align: right;\">\n",
       "      <th></th>\n",
       "      <th>Descrição da categoria</th>\n",
       "    </tr>\n",
       "    <tr>\n",
       "      <th>Código</th>\n",
       "      <th></th>\n",
       "    </tr>\n",
       "  </thead>\n",
       "  <tbody>\n",
       "    <tr>\n",
       "      <th>1</th>\n",
       "      <td>Operadora</td>\n",
       "    </tr>\n",
       "    <tr>\n",
       "      <th>2</th>\n",
       "      <td>Prestador</td>\n",
       "    </tr>\n",
       "    <tr>\n",
       "      <th>3</th>\n",
       "      <td>Consumidor</td>\n",
       "    </tr>\n",
       "    <tr>\n",
       "      <th>4</th>\n",
       "      <td>Gestor</td>\n",
       "    </tr>\n",
       "    <tr>\n",
       "      <th>5</th>\n",
       "      <td>ANS</td>\n",
       "    </tr>\n",
       "  </tbody>\n",
       "</table>\n",
       "</div>"
      ],
      "text/plain": [
       "0      Descrição da categoria\n",
       "Código                       \n",
       "1                   Operadora\n",
       "2                   Prestador\n",
       "3                  Consumidor\n",
       "4                      Gestor\n",
       "5                         ANS"
      ]
     },
     "execution_count": 9,
     "metadata": {},
     "output_type": "execute_result"
    }
   ],
   "source": [
    "tabela"
   ]
  },
  {
   "cell_type": "code",
   "execution_count": 10,
   "id": "381e3257",
   "metadata": {},
   "outputs": [],
   "source": [
    "# Exportando dataframe para csv\n",
    "tabela.to_csv('quadro30.csv', sep='\\t', encoding='utf-8')"
   ]
  },
  {
   "cell_type": "code",
   "execution_count": null,
   "id": "c97160c5",
   "metadata": {},
   "outputs": [],
   "source": []
  }
 ],
 "metadata": {
  "kernelspec": {
   "display_name": "Python 3 (ipykernel)",
   "language": "python",
   "name": "python3"
  },
  "language_info": {
   "codemirror_mode": {
    "name": "ipython",
    "version": 3
   },
   "file_extension": ".py",
   "mimetype": "text/x-python",
   "name": "python",
   "nbconvert_exporter": "python",
   "pygments_lexer": "ipython3",
   "version": "3.9.7"
  }
 },
 "nbformat": 4,
 "nbformat_minor": 5
}

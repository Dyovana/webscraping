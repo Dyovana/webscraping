{
 "cells": [
  {
   "cell_type": "code",
   "execution_count": 1,
   "id": "6e9bf120",
   "metadata": {},
   "outputs": [],
   "source": [
    "import urllib.request\n",
    "from bs4 import BeautifulSoup\n",
    "import requests\n"
   ]
  },
  {
   "cell_type": "code",
   "execution_count": 2,
   "id": "8e8a854d",
   "metadata": {},
   "outputs": [],
   "source": [
    "\n",
    "url = \"https://www.gov.br/ans/pt-br/assuntos/prestadores/padrao-para-troca-de-informacao-de-saude-suplementar-2013-tiss/padrao-tiss-2013-novembro-2021\""
   ]
  },
  {
   "cell_type": "code",
   "execution_count": 3,
   "id": "fc57f704",
   "metadata": {},
   "outputs": [],
   "source": [
    "page = urllib.request.urlopen(url)"
   ]
  },
  {
   "cell_type": "code",
   "execution_count": 4,
   "id": "76d5c2a9",
   "metadata": {},
   "outputs": [],
   "source": [
    "soup = BeautifulSoup(page, 'html.parser')"
   ]
  },
  {
   "cell_type": "code",
   "execution_count": 5,
   "id": "5819c527",
   "metadata": {},
   "outputs": [],
   "source": [
    "list_item = soup.find('a', attrs={'class': 'internal-link'})"
   ]
  },
  {
   "cell_type": "code",
   "execution_count": 6,
   "id": "fe6c2a2c",
   "metadata": {},
   "outputs": [],
   "source": [
    "link_pdf = list_item.get('href')"
   ]
  },
  {
   "cell_type": "code",
   "execution_count": 7,
   "id": "1fb4379b",
   "metadata": {},
   "outputs": [],
   "source": [
    "r = requests.get(link_pdf, stream=True)"
   ]
  },
  {
   "cell_type": "code",
   "execution_count": 8,
   "id": "f869297b",
   "metadata": {},
   "outputs": [
    {
     "name": "stdout",
     "output_type": "stream",
     "text": [
      "Download do arquivo componente organizacional \n"
     ]
    }
   ],
   "source": [
    "with open(\"padrao-tiss_componente-organizacional_202111.pdf\", \"wb\") as pdf:\n",
    "    for chunk in r.iter_content(chunk_size=1024):\n",
    "        if chunk:\n",
    "            pdf.write(chunk)\n",
    "\n",
    "print(\"Download do arquivo componente organizacional \")"
   ]
  },
  {
   "cell_type": "code",
   "execution_count": null,
   "id": "bf0d7b2e",
   "metadata": {},
   "outputs": [],
   "source": []
  }
 ],
 "metadata": {
  "kernelspec": {
   "display_name": "Python 3 (ipykernel)",
   "language": "python",
   "name": "python3"
  },
  "language_info": {
   "codemirror_mode": {
    "name": "ipython",
    "version": 3
   },
   "file_extension": ".py",
   "mimetype": "text/x-python",
   "name": "python",
   "nbconvert_exporter": "python",
   "pygments_lexer": "ipython3",
   "version": "3.9.7"
  }
 },
 "nbformat": 4,
 "nbformat_minor": 5
}

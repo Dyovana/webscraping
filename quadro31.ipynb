{
 "cells": [
  {
   "cell_type": "code",
   "execution_count": 1,
   "id": "14dbe3b4",
   "metadata": {},
   "outputs": [],
   "source": [
    "import tabula\n",
    "\n",
    "import pandas as pd\n",
    "\n",
    "import csv"
   ]
  },
  {
   "cell_type": "code",
   "execution_count": 2,
   "id": "3f2a28e1",
   "metadata": {},
   "outputs": [
    {
     "name": "stderr",
     "output_type": "stream",
     "text": [
      "Got stderr: dez 11, 2021 10:39:57 AM org.apache.pdfbox.pdmodel.font.PDTrueTypeFont <init>\n",
      "WARNING: Using fallback font 'Arial-BoldMT' for 'Helvetica,Bold'\n",
      "dez 11, 2021 10:40:01 AM org.apache.pdfbox.pdmodel.font.PDTrueTypeFont <init>\n",
      "WARNING: Using fallback font 'Arial-BoldMT' for 'Helvetica,Bold'\n",
      "dez 11, 2021 10:40:04 AM org.apache.pdfbox.pdmodel.font.PDTrueTypeFont <init>\n",
      "WARNING: Using fallback font 'Arial-BoldMT' for 'Helvetica,Bold'\n",
      "\n",
      "Got stderr: dez 11, 2021 10:40:09 AM org.apache.pdfbox.pdmodel.font.PDTrueTypeFont <init>\n",
      "WARNING: Using fallback font 'Arial-BoldMT' for 'Helvetica,Bold'\n",
      "dez 11, 2021 10:40:13 AM org.apache.pdfbox.pdmodel.font.PDTrueTypeFont <init>\n",
      "WARNING: Using fallback font 'Arial-BoldMT' for 'Helvetica,Bold'\n",
      "dez 11, 2021 10:40:16 AM org.apache.pdfbox.pdmodel.font.PDTrueTypeFont <init>\n",
      "WARNING: Using fallback font 'Arial-BoldMT' for 'Helvetica,Bold'\n",
      "\n",
      "Got stderr: dez 11, 2021 10:40:27 AM org.apache.pdfbox.pdmodel.font.PDTrueTypeFont <init>\n",
      "WARNING: Using fallback font 'Arial-BoldMT' for 'Helvetica,Bold'\n",
      "dez 11, 2021 10:40:35 AM org.apache.pdfbox.pdmodel.font.PDTrueTypeFont <init>\n",
      "WARNING: Using fallback font 'Arial-BoldMT' for 'Helvetica,Bold'\n",
      "dez 11, 2021 10:40:40 AM org.apache.pdfbox.pdmodel.font.PDTrueTypeFont <init>\n",
      "WARNING: Using fallback font 'Arial-BoldMT' for 'Helvetica,Bold'\n",
      "\n",
      "Got stderr: dez 11, 2021 10:40:50 AM org.apache.pdfbox.pdmodel.font.PDTrueTypeFont <init>\n",
      "WARNING: Using fallback font 'Arial-BoldMT' for 'Helvetica,Bold'\n",
      "dez 11, 2021 10:41:00 AM org.apache.pdfbox.pdmodel.font.PDTrueTypeFont <init>\n",
      "WARNING: Using fallback font 'Arial-BoldMT' for 'Helvetica,Bold'\n",
      "dez 11, 2021 10:41:05 AM org.apache.pdfbox.pdmodel.font.PDTrueTypeFont <init>\n",
      "WARNING: Using fallback font 'Arial-BoldMT' for 'Helvetica,Bold'\n",
      "\n",
      "Got stderr: dez 11, 2021 10:41:14 AM org.apache.pdfbox.pdmodel.font.PDTrueTypeFont <init>\n",
      "WARNING: Using fallback font 'Arial-BoldMT' for 'Helvetica,Bold'\n",
      "dez 11, 2021 10:41:20 AM org.apache.pdfbox.pdmodel.font.PDTrueTypeFont <init>\n",
      "WARNING: Using fallback font 'Arial-BoldMT' for 'Helvetica,Bold'\n",
      "dez 11, 2021 10:41:27 AM org.apache.pdfbox.pdmodel.font.PDTrueTypeFont <init>\n",
      "WARNING: Using fallback font 'Arial-BoldMT' for 'Helvetica,Bold'\n",
      "\n",
      "Got stderr: dez 11, 2021 10:41:34 AM org.apache.pdfbox.pdmodel.font.PDTrueTypeFont <init>\n",
      "WARNING: Using fallback font 'Arial-BoldMT' for 'Helvetica,Bold'\n",
      "dez 11, 2021 10:41:38 AM org.apache.pdfbox.pdmodel.font.PDTrueTypeFont <init>\n",
      "WARNING: Using fallback font 'Arial-BoldMT' for 'Helvetica,Bold'\n",
      "dez 11, 2021 10:41:40 AM org.apache.pdfbox.pdmodel.font.PDTrueTypeFont <init>\n",
      "WARNING: Using fallback font 'Arial-BoldMT' for 'Helvetica,Bold'\n",
      "\n"
     ]
    },
    {
     "name": "stdout",
     "output_type": "stream",
     "text": [
      "7\n"
     ]
    }
   ],
   "source": [
    "pages = [\"115\", \"116\", \"117\", \"118\", \"119\", \"120\"]\n",
    "for page in pages:\n",
    "    lista_tabelas = tabula.read_pdf(\"padrao-tiss_componente-organizacional_202111.pdf\", pages=pages)\n",
    "\n",
    "# Vê a quantidade de tabelas retornadas\n",
    "print(len(lista_tabelas))"
   ]
  },
  {
   "cell_type": "code",
   "execution_count": 3,
   "id": "25a91dd3",
   "metadata": {},
   "outputs": [
    {
     "data": {
      "text/html": [
       "<div>\n",
       "<style scoped>\n",
       "    .dataframe tbody tr th:only-of-type {\n",
       "        vertical-align: middle;\n",
       "    }\n",
       "\n",
       "    .dataframe tbody tr th {\n",
       "        vertical-align: top;\n",
       "    }\n",
       "\n",
       "    .dataframe thead th {\n",
       "        text-align: right;\n",
       "    }\n",
       "</style>\n",
       "<table border=\"1\" class=\"dataframe\">\n",
       "  <thead>\n",
       "    <tr style=\"text-align: right;\">\n",
       "      <th></th>\n",
       "      <th>Tabela de Tipo de Solicitação</th>\n",
       "    </tr>\n",
       "  </thead>\n",
       "  <tbody>\n",
       "    <tr>\n",
       "      <th>0</th>\n",
       "      <td>Código</td>\n",
       "    </tr>\n",
       "    <tr>\n",
       "      <th>1</th>\n",
       "      <td>Descrição da categoria</td>\n",
       "    </tr>\n",
       "    <tr>\n",
       "      <th>2</th>\n",
       "      <td>1 Alteração</td>\n",
       "    </tr>\n",
       "    <tr>\n",
       "      <th>3</th>\n",
       "      <td>2 Inclusão</td>\n",
       "    </tr>\n",
       "    <tr>\n",
       "      <th>4</th>\n",
       "      <td>NaN</td>\n",
       "    </tr>\n",
       "    <tr>\n",
       "      <th>5</th>\n",
       "      <td>3 Exclusão</td>\n",
       "    </tr>\n",
       "  </tbody>\n",
       "</table>\n",
       "</div>"
      ],
      "text/plain": [
       "  Tabela de Tipo de Solicitação\n",
       "0                        Código\n",
       "1        Descrição da categoria\n",
       "2                   1 Alteração\n",
       "3                    2 Inclusão\n",
       "4                           NaN\n",
       "5                    3 Exclusão"
      ]
     },
     "execution_count": 3,
     "metadata": {},
     "output_type": "execute_result"
    }
   ],
   "source": [
    "#Excluindo tabela desnecessária\n",
    "lista_tabelas.pop(6)"
   ]
  },
  {
   "cell_type": "code",
   "execution_count": 4,
   "id": "d845af3d",
   "metadata": {},
   "outputs": [],
   "source": [
    "# Iterando entre as tabelas e covertendo para csv\n",
    "for tabela in lista_tabelas:\n",
    "        tabela.to_csv('quadro31.csv', sep='\\t', mode='a', encoding='utf-8', index=False)"
   ]
  },
  {
   "cell_type": "code",
   "execution_count": null,
   "id": "95c14305",
   "metadata": {},
   "outputs": [],
   "source": []
  }
 ],
 "metadata": {
  "kernelspec": {
   "display_name": "Python 3 (ipykernel)",
   "language": "python",
   "name": "python3"
  },
  "language_info": {
   "codemirror_mode": {
    "name": "ipython",
    "version": 3
   },
   "file_extension": ".py",
   "mimetype": "text/x-python",
   "name": "python",
   "nbconvert_exporter": "python",
   "pygments_lexer": "ipython3",
   "version": "3.9.7"
  }
 },
 "nbformat": 4,
 "nbformat_minor": 5
}
